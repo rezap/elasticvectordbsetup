{
 "cells": [
  {
   "cell_type": "code",
   "execution_count": null,
   "metadata": {},
   "outputs": [],
   "source": [
    "from elasticsearch import Elasticsearch\n",
    "\n",
    "es = Elasticsearch(\"http://localhost:9200\")\n",
    "es.info().body"
   ]
  },
  {
   "cell_type": "code",
   "execution_count": null,
   "metadata": {},
   "outputs": [],
   "source": [
    "from sentence_transformers import SentenceTransformer\n",
    "model = SentenceTransformer(\"sentence-transformers/all-MiniLM-L6-v2\")"
   ]
  },
  {
   "cell_type": "code",
   "execution_count": null,
   "metadata": {},
   "outputs": [],
   "source": [
    "import os\n",
    "import json\n",
    "\n",
    "dictionary_fn = \"dictionary.json\"\n",
    "\n",
    "with open(dictionary_fn) as f:\n",
    "    dictionary = json.load(f)\n",
    "    words = list(dictionary.keys())\n",
    "    embeddings = model.encode(words, batch_size=512, show_progress_bar=True).tolist()\n"
   ]
  },
  {
   "cell_type": "code",
   "execution_count": null,
   "metadata": {},
   "outputs": [],
   "source": [
    "len(words)==len(embeddings)"
   ]
  },
  {
   "cell_type": "code",
   "execution_count": null,
   "metadata": {},
   "outputs": [],
   "source": [
    "mappings = {\n",
    "    \"properties\": {\n",
    "      \"word-vector\": {\n",
    "        \"type\": \"dense_vector\",\n",
    "        \"dims\": len(embeddings[0]),\n",
    "        \"index\": True,\n",
    "        \"similarity\": \"cosine\"\n",
    "      },\n",
    "      \"word\": {\n",
    "        \"type\": \"text\"\n",
    "      }\n",
    "    }\n",
    "}\n",
    "\n",
    "es.indices.create(index=\"local-search\", mappings=mappings)"
   ]
  },
  {
   "cell_type": "code",
   "execution_count": null,
   "metadata": {},
   "outputs": [],
   "source": [
    "from elasticsearch.helpers import bulk\n",
    "\n",
    "bulk_data = []\n",
    "for i, word in enumerate(words):\n",
    "    bulk_data.append(\n",
    "        {\n",
    "            \"_index\": \"local-search\",\n",
    "            \"_id\": i,\n",
    "            \"_source\": {        \n",
    "                \"word\": word,\n",
    "                \"word-vector\": embeddings[i]\n",
    "            }\n",
    "        }\n",
    "    )\n",
    "bulk(es, bulk_data)"
   ]
  },
  {
   "cell_type": "code",
   "execution_count": null,
   "metadata": {},
   "outputs": [],
   "source": [
    "es.indices.refresh(index=\"local-search\")\n",
    "es.cat.count(index=\"local-search\", format=\"json\")"
   ]
  },
  {
   "cell_type": "code",
   "execution_count": null,
   "metadata": {},
   "outputs": [],
   "source": [
    "import time\n",
    "def search(word: str, top: int = 5) -> list[str]:\n",
    "    t = time.perf_counter()\n",
    "    embedding = model.encode([word]).tolist()[0]\n",
    "    resp = es.search(\n",
    "            index=\"local-search\",\n",
    "            fields=[\"word\"],\n",
    "                knn= {\n",
    "                    \"field\": \"word-vector\",\n",
    "                    \"query_vector\": embedding,\n",
    "                    \"k\": 10,\n",
    "                    \"num_candidates\": 100\n",
    "            },\n",
    "            size=int(top)\n",
    "        )\n",
    "    winner = [hit[\"_source\"][\"word\"] for hit in resp.body[\"hits\"][\"hits\"]]\n",
    "    winner_rank =[hit[\"_score\"] for hit in resp.body[\"hits\"][\"hits\"] ]\n",
    "    el_t = (time.perf_counter() - t)*1000\n",
    "    el_t = f\"{el_t:.2f}\"\n",
    "    return winner, winner_rank, el_t\n",
    "\n",
    "winners, ranks, el_t = search(\"effort\")\n",
    "print(\"winners:\", winners)\n",
    "print(\"ranks: \", ranks)\n",
    "print(\"elapsed time: \", el_t, \"ms\")"
   ]
  },
  {
   "cell_type": "code",
   "execution_count": null,
   "metadata": {},
   "outputs": [],
   "source": []
  }
 ],
 "metadata": {
  "kernelspec": {
   "display_name": "Python 3",
   "language": "python",
   "name": "python3"
  },
  "language_info": {
   "codemirror_mode": {
    "name": "ipython",
    "version": 3
   },
   "file_extension": ".py",
   "mimetype": "text/x-python",
   "name": "python",
   "nbconvert_exporter": "python",
   "pygments_lexer": "ipython3",
   "version": "3.11.7"
  }
 },
 "nbformat": 4,
 "nbformat_minor": 2
}
